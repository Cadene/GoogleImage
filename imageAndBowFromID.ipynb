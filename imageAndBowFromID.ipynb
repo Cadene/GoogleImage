{
 "cells": [
  {
   "cell_type": "code",
   "execution_count": 1,
   "metadata": {
    "collapsed": true
   },
   "outputs": [],
   "source": [
    "cl = []\n",
    "cl.append(\"taxi\");\n",
    "cl.append(\"ambulance\");\n",
    "cl.append(\"minivan\");\n",
    "cl.append(\"acoustic_guitar\");\n",
    "cl.append(\"electric_guitar\");\n",
    "cl.append(\"harp\");\n",
    "cl.append(\"wood-frog\");\n",
    "cl.append(\"tree-frog\");\n",
    "cl.append(\"european_fire_salamander\");"
   ]
  },
  {
   "cell_type": "code",
   "execution_count": 2,
   "metadata": {
    "collapsed": false
   },
   "outputs": [],
   "source": [
    "bows = []\n",
    "ids = []\n",
    "for c in cl:\n",
    "    fclass = open(\"/users/nfs/Enseignants/thomen/Bases/ImageNet/BoF/txt/\"+c+\".txt\", \"r\")\n",
    "    line = fclass.readline()\n",
    "    line = fclass.readline()\n",
    "    while line:\n",
    "        ids.append(line[:-1])\n",
    "        bows.append(fclass.readline()[1:-3].split(\";\"))\n",
    "        line = fclass.readline()\n",
    "        line = fclass.readline()\n",
    "        line = fclass.readline()\n",
    "        line = fclass.readline()"
   ]
  },
  {
   "cell_type": "code",
   "execution_count": 14,
   "metadata": {
    "collapsed": false
   },
   "outputs": [
    {
     "name": "stdout",
     "output_type": "stream",
     "text": [
      "id de l'image:  n02930766_28\n"
     ]
    }
   ],
   "source": [
    "import matplotlib.pyplot as plt\n",
    "import numpy as np\n",
    "from subprocess import call\n",
    "\n",
    "#indice du bow\n",
    "i = 3\n",
    "\n",
    "print \"id de l'image: \", ids[i]\n",
    "\n",
    "call([\"./imageNetGet.sh\", str(ids[i])])\n",
    "#aller chercher l'image téléchargée dans img/ids[i].jpg\n",
    "\n",
    "bow = np.array(bows[i])\n",
    "plt.plot(np.array(bows[i]))\n",
    "plt.show()"
   ]
  }
 ],
 "metadata": {
  "kernelspec": {
   "display_name": "Python 2",
   "language": "python",
   "name": "python2"
  },
  "language_info": {
   "codemirror_mode": {
    "name": "ipython",
    "version": 2
   },
   "file_extension": ".py",
   "mimetype": "text/x-python",
   "name": "python",
   "nbconvert_exporter": "python",
   "pygments_lexer": "ipython2",
   "version": "2.7.9"
  }
 },
 "nbformat": 4,
 "nbformat_minor": 0
}
